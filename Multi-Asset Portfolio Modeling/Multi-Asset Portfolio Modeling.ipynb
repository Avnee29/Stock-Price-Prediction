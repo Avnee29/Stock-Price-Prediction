{
 "cells": [
  {
   "cell_type": "code",
   "execution_count": 6,
   "id": "cca0db65-8eaf-41f5-a36c-d8af5b19c884",
   "metadata": {},
   "outputs": [
    {
     "name": "stdout",
     "output_type": "stream",
     "text": [
      "Requirement already satisfied: numpy in c:\\users\\asus\\anaconda3\\lib\\site-packages (1.26.4)Note: you may need to restart the kernel to use updated packages.\n",
      "\n",
      "Requirement already satisfied: pandas in c:\\users\\asus\\anaconda3\\lib\\site-packages (2.1.4)\n",
      "Requirement already satisfied: matplotlib in c:\\users\\asus\\anaconda3\\lib\\site-packages (3.8.0)\n",
      "Requirement already satisfied: yfinance in c:\\users\\asus\\anaconda3\\lib\\site-packages (0.2.44)\n",
      "Requirement already satisfied: python-dateutil>=2.8.2 in c:\\users\\asus\\anaconda3\\lib\\site-packages (from pandas) (2.8.2)\n",
      "Requirement already satisfied: pytz>=2020.1 in c:\\users\\asus\\anaconda3\\lib\\site-packages (from pandas) (2023.3.post1)\n",
      "Requirement already satisfied: tzdata>=2022.1 in c:\\users\\asus\\anaconda3\\lib\\site-packages (from pandas) (2023.3)\n",
      "Requirement already satisfied: contourpy>=1.0.1 in c:\\users\\asus\\anaconda3\\lib\\site-packages (from matplotlib) (1.2.0)\n",
      "Requirement already satisfied: cycler>=0.10 in c:\\users\\asus\\anaconda3\\lib\\site-packages (from matplotlib) (0.11.0)\n",
      "Requirement already satisfied: fonttools>=4.22.0 in c:\\users\\asus\\anaconda3\\lib\\site-packages (from matplotlib) (4.25.0)\n",
      "Requirement already satisfied: kiwisolver>=1.0.1 in c:\\users\\asus\\anaconda3\\lib\\site-packages (from matplotlib) (1.4.4)\n",
      "Requirement already satisfied: packaging>=20.0 in c:\\users\\asus\\anaconda3\\lib\\site-packages (from matplotlib) (23.1)\n",
      "Requirement already satisfied: pillow>=6.2.0 in c:\\users\\asus\\anaconda3\\lib\\site-packages (from matplotlib) (10.2.0)\n",
      "Requirement already satisfied: pyparsing>=2.3.1 in c:\\users\\asus\\anaconda3\\lib\\site-packages (from matplotlib) (3.0.9)\n",
      "Requirement already satisfied: requests>=2.31 in c:\\users\\asus\\anaconda3\\lib\\site-packages (from yfinance) (2.31.0)\n",
      "Requirement already satisfied: multitasking>=0.0.7 in c:\\users\\asus\\anaconda3\\lib\\site-packages (from yfinance) (0.0.11)\n",
      "Requirement already satisfied: lxml>=4.9.1 in c:\\users\\asus\\anaconda3\\lib\\site-packages (from yfinance) (4.9.3)\n",
      "Requirement already satisfied: platformdirs>=2.0.0 in c:\\users\\asus\\anaconda3\\lib\\site-packages (from yfinance) (3.10.0)\n",
      "Requirement already satisfied: frozendict>=2.3.4 in c:\\users\\asus\\anaconda3\\lib\\site-packages (from yfinance) (2.4.4)\n",
      "Requirement already satisfied: peewee>=3.16.2 in c:\\users\\asus\\anaconda3\\lib\\site-packages (from yfinance) (3.17.6)\n",
      "Requirement already satisfied: beautifulsoup4>=4.11.1 in c:\\users\\asus\\anaconda3\\lib\\site-packages (from yfinance) (4.12.2)\n",
      "Requirement already satisfied: html5lib>=1.1 in c:\\users\\asus\\anaconda3\\lib\\site-packages (from yfinance) (1.1)\n",
      "Requirement already satisfied: soupsieve>1.2 in c:\\users\\asus\\anaconda3\\lib\\site-packages (from beautifulsoup4>=4.11.1->yfinance) (2.5)\n",
      "Requirement already satisfied: six>=1.9 in c:\\users\\asus\\anaconda3\\lib\\site-packages (from html5lib>=1.1->yfinance) (1.16.0)\n",
      "Requirement already satisfied: webencodings in c:\\users\\asus\\anaconda3\\lib\\site-packages (from html5lib>=1.1->yfinance) (0.5.1)\n",
      "Requirement already satisfied: charset-normalizer<4,>=2 in c:\\users\\asus\\anaconda3\\lib\\site-packages (from requests>=2.31->yfinance) (2.0.4)\n",
      "Requirement already satisfied: idna<4,>=2.5 in c:\\users\\asus\\anaconda3\\lib\\site-packages (from requests>=2.31->yfinance) (3.4)\n",
      "Requirement already satisfied: urllib3<3,>=1.21.1 in c:\\users\\asus\\anaconda3\\lib\\site-packages (from requests>=2.31->yfinance) (2.0.7)\n",
      "Requirement already satisfied: certifi>=2017.4.17 in c:\\users\\asus\\anaconda3\\lib\\site-packages (from requests>=2.31->yfinance) (2024.2.2)\n"
     ]
    }
   ],
   "source": [
    "pip install numpy pandas matplotlib yfinance"
   ]
  },
  {
   "cell_type": "code",
   "execution_count": 7,
   "id": "27f0a1fc-c8fb-47e9-8456-875a2e229e9a",
   "metadata": {},
   "outputs": [
    {
     "name": "stderr",
     "output_type": "stream",
     "text": [
      "[*********************100%***********************]  3 of 3 completed"
     ]
    },
    {
     "name": "stdout",
     "output_type": "stream",
     "text": [
      "Ticker                           AAPL      GOOGL        MSFT\n",
      "Date                                                        \n",
      "2023-01-03 00:00:00+00:00  123.904625  88.899872  236.183517\n",
      "2023-01-04 00:00:00+00:00  125.182610  87.862434  225.852112\n",
      "2023-01-05 00:00:00+00:00  123.855095  85.987083  219.158356\n",
      "2023-01-06 00:00:00+00:00  128.412216  87.124260  221.741196\n",
      "2023-01-09 00:00:00+00:00  128.937286  87.802582  223.900177\n"
     ]
    },
    {
     "name": "stderr",
     "output_type": "stream",
     "text": [
      "\n"
     ]
    }
   ],
   "source": [
    "import yfinance as yf\n",
    "import pandas as pd\n",
    "\n",
    "# Define the assets\n",
    "assets = ['AAPL', 'MSFT', 'GOOGL']\n",
    "\n",
    "# Fetch historical price data for the last 1 year\n",
    "data = yf.download(assets, start='2023-01-01', end='2024-01-01')['Adj Close']\n",
    "print(data.head())"
   ]
  },
  {
   "cell_type": "code",
   "execution_count": 8,
   "id": "8d06c2ba-c0b4-42a8-a2d3-21d05fdfd6f9",
   "metadata": {},
   "outputs": [
    {
     "name": "stdout",
     "output_type": "stream",
     "text": [
      "Ticker                         AAPL     GOOGL      MSFT\n",
      "Date                                                   \n",
      "2023-01-04 00:00:00+00:00  0.010314 -0.011670 -0.043743\n",
      "2023-01-05 00:00:00+00:00 -0.010605 -0.021344 -0.029638\n",
      "2023-01-06 00:00:00+00:00  0.036794  0.013225  0.011785\n",
      "2023-01-09 00:00:00+00:00  0.004089  0.007786  0.009736\n",
      "2023-01-10 00:00:00+00:00  0.004456  0.004544  0.007617\n"
     ]
    }
   ],
   "source": [
    "# Calculate daily returns\n",
    "returns = data.pct_change().dropna()\n",
    "print(returns.head())"
   ]
  },
  {
   "cell_type": "code",
   "execution_count": 9,
   "id": "ca2e4ca6-b750-44e8-a58a-40ec9d7e6b21",
   "metadata": {},
   "outputs": [
    {
     "name": "stdout",
     "output_type": "stream",
     "text": [
      "Expected Returns:\n",
      " Ticker\n",
      "AAPL     0.462402\n",
      "GOOGL    0.501407\n",
      "MSFT     0.496859\n",
      "dtype: float64\n",
      "\n",
      "Covariance Matrix:\n",
      " Ticker      AAPL     GOOGL      MSFT\n",
      "Ticker                              \n",
      "AAPL    0.039818  0.032044  0.027468\n",
      "GOOGL   0.032044  0.092405  0.038936\n",
      "MSFT    0.027468  0.038936  0.063103\n"
     ]
    }
   ],
   "source": [
    "# Calculate expected returns and covariance matrix\n",
    "expected_returns = returns.mean() * 252  # Annualize the mean returns\n",
    "cov_matrix = returns.cov() * 252  # Annualize the covariance matrix\n",
    "print(\"Expected Returns:\\n\", expected_returns)\n",
    "print(\"\\nCovariance Matrix:\\n\", cov_matrix)"
   ]
  },
  {
   "cell_type": "code",
   "execution_count": 10,
   "id": "099547bd-aee5-448c-a78f-5143fed0a918",
   "metadata": {},
   "outputs": [
    {
     "name": "stdout",
     "output_type": "stream",
     "text": [
      "\n",
      "Optimal Weights:\n",
      " [0.63821833 0.07981002 0.28197165]\n"
     ]
    }
   ],
   "source": [
    "import numpy as np\n",
    "\n",
    "def portfolio_performance(weights, expected_returns, cov_matrix):\n",
    "    portfolio_return = np.sum(expected_returns * weights)\n",
    "    portfolio_std_dev = np.sqrt(np.dot(weights.T, np.dot(cov_matrix, weights)))\n",
    "    return portfolio_return, portfolio_std_dev\n",
    "\n",
    "def negative_sharpe(weights, expected_returns, cov_matrix, risk_free_rate=0.01):\n",
    "    portfolio_return, portfolio_std_dev = portfolio_performance(weights, expected_returns, cov_matrix)\n",
    "    return -(portfolio_return - risk_free_rate) / portfolio_std_dev  # Negative Sharpe ratio\n",
    "\n",
    "# Optimize portfolio weights\n",
    "from scipy.optimize import minimize\n",
    "\n",
    "num_assets = len(assets)\n",
    "args = (expected_returns, cov_matrix)\n",
    "\n",
    "constraints = ({'type': 'eq', 'fun': lambda x: np.sum(x) - 1})  # Sum of weights must be 1\n",
    "bounds = tuple((0, 1) for _ in range(num_assets))  # No short selling\n",
    "\n",
    "# Initial guess (equal distribution)\n",
    "initial_weights = num_assets * [1. / num_assets,]\n",
    "\n",
    "optimal_solution = minimize(negative_sharpe, initial_weights, args=args, \n",
    "                             method='SLSQP', bounds=bounds, constraints=constraints)\n",
    "\n",
    "optimal_weights = optimal_solution.x\n",
    "print(\"\\nOptimal Weights:\\n\", optimal_weights)"
   ]
  },
  {
   "cell_type": "code",
   "execution_count": 11,
   "id": "96d95260-4592-4e77-88d0-5f62b160704e",
   "metadata": {},
   "outputs": [
    {
     "data": {
      "image/png": "[encoded data removed]",
      "text/plain": [
       "<Figure size 800x600 with 1 Axes>"
      ]
     },
     "metadata": {},
     "output_type": "display_data"
    }
   ],
   "source": [
    "import matplotlib.pyplot as plt\n",
    "\n",
    "def plot_portfolio_weights(weights, assets):\n",
    "    plt.figure(figsize=(8, 6))\n",
    "    plt.pie(weights, labels=assets, autopct='%1.1f%%', startangle=140)\n",
    "    plt.title('Optimal Portfolio Allocation')\n",
    "    plt.axis('equal')  # Equal aspect ratio ensures that pie chart is a circle\n",
    "    plt.show()\n",
    "\n",
    "# Plot the optimal portfolio weights\n",
    "plot_portfolio_weights(optimal_weights, assets)"
   ]
  },
  {
   "cell_type": "code",
   "execution_count": null,
   "id": "06bfb489-43dc-49d8-929d-46a3d831c7c7",
   "metadata": {},
   "outputs": [],
   "source": []
  }
 ],
 "metadata": {
  "kernelspec": {
   "display_name": "Python 3 (ipykernel)",
   "language": "python",
   "name": "python3"
  },
  "language_info": {
   "codemirror_mode": {
    "name": "ipython",
    "version": 3
   },
   "file_extension": ".py",
   "mimetype": "text/x-python",
   "name": "python",
   "nbconvert_exporter": "python",
   "pygments_lexer": "ipython3",
   "version": "3.11.7"
  }
 },
 "nbformat": 4,
 "nbformat_minor": 5
}
